{
  "cells": [
    {
      "cell_type": "markdown",
      "metadata": {
        "id": "view-in-github",
        "colab_type": "text"
      },
      "source": [
        "<a href=\"https://colab.research.google.com/github/cedro3/DifFace/blob/master/DifFace.ipynb\" target=\"_parent\"><img src=\"https://colab.research.google.com/assets/colab-badge.svg\" alt=\"Open In Colab\"/></a>"
      ]
    },
    {
      "cell_type": "code",
      "execution_count": null,
      "metadata": {
        "id": "IyChddOYNaFp"
      },
      "outputs": [],
      "source": [
        "#@title **Install Miniconda3**\n",
        "# https://github.com/conda-incubator/condacolab\n",
        "!pip install -q condacolab\n",
        "import condacolab\n",
        "condacolab.install_miniconda()"
      ]
    },
    {
      "cell_type": "code",
      "execution_count": null,
      "metadata": {
        "id": "0iTVQG1ZgmCv"
      },
      "outputs": [],
      "source": [
        "#@title **Set up**\n",
        "\n",
        "# Clone Repository\n",
        "! git clone https://github.com/cedro3/DifFace.git \n",
        "%cd DifFace\n",
        "\n",
        "# Viewing the list of your environments\n",
        "!conda info --envs\n",
        "\n",
        "# Updating the environment\n",
        "!conda env update -n base -f /content/DifFace/environment.yaml\n",
        "print(\"Done...\")\n",
        "\n",
        "# Viewing the list of your environments\n",
        "!conda info --envs\n",
        "\n",
        "#difine function\n",
        "import cv2\n",
        "import matplotlib.pyplot as plt\n",
        "from IPython.display import clear_output\n",
        "import os\n",
        "import shutil\n",
        "from pathlib import Path\n",
        "\n",
        "def display(img1, img2):\n",
        "  fig = plt.figure(figsize=(25, 10))\n",
        "  ax1 = fig.add_subplot(1, 2, 1) \n",
        "  plt.title('Input', fontsize=16)\n",
        "  ax1.axis('off')\n",
        "  ax2 = fig.add_subplot(1, 2, 2)\n",
        "  plt.title('DifFace', fontsize=16)\n",
        "  ax2.axis('off')\n",
        "  ax1.imshow(img1)\n",
        "  ax2.imshow(img2)\n",
        "\n",
        "def imread(img_path):\n",
        "  img = cv2.imread(img_path)\n",
        "  if img.ndim > 3:\n",
        "    img = img[:, :, :3]\n",
        "  img = cv2.cvtColor(img, cv2.COLOR_BGR2RGB)\n",
        "  return img\n",
        "\n",
        "def reset_folder(path):\n",
        "    if os.path.isdir(path):\n",
        "      shutil.rmtree(path)\n",
        "    os.makedirs(path,exist_ok=True)"
      ]
    },
    {
      "cell_type": "code",
      "execution_count": null,
      "metadata": {
        "id": "dfM5K44-WUfZ"
      },
      "outputs": [],
      "source": [
        "#@title **Cropped Image Demo**\n",
        "\"\"\"\n",
        "!python inference_difface.py \n",
        "  --aligned\n",
        "  --in_path [image folder/image path] \n",
        "  --out_path [result folder] \n",
        "  --gpu_id [gpu index]\n",
        "\"\"\"\n",
        "\n",
        "!python /content/DifFace/inference_difface.py \\\n",
        "  --aligned \\\n",
        "  --in_path /content/DifFace/testdata/cropped_faces \\\n",
        "  --out_path /content/result_aligned \\\n",
        "  --gpu_id 0\n",
        "\n",
        "im_path_list = sorted([x for x in Path(\"/content/DifFace/testdata/cropped_faces\").glob(\"*.png\")])\n",
        "out_dir = Path(\"/content/result_aligned/restored_faces\")\n",
        "for im_path_in in im_path_list:\n",
        "  im1 = imread(str(im_path_in))\n",
        "  im_path_out = out_dir / im_path_in.name\n",
        "  im2 = imread(str(im_path_out))\n",
        "  display(im1, im2)"
      ]
    },
    {
      "cell_type": "code",
      "execution_count": null,
      "metadata": {
        "id": "QFHYlTSMHMul"
      },
      "outputs": [],
      "source": [
        "#@title **Whole Image Demo**\n",
        "\"\"\"\n",
        "!python inference_difface.py \n",
        "  -t 200   # The whole length of the pretrained diffusion model, default 250\n",
        "  -s 80    # started timestpes for DifFace, default 100\n",
        "  --in_path [image folder/image path] \n",
        "  --out_path [result folder] \n",
        "  --gpu_id [gpu index]\n",
        "\"\"\"\n",
        "\n",
        "!python /content/DifFace/inference_difface.py \\\n",
        "  -t 200 -s 80 \\\n",
        "  --in_path /content/DifFace/testdata/whole_imgs/ \\\n",
        "  --out_path /content/result_unaligned \\\n",
        "  --gpu_id 0\n",
        "\n",
        "in_dir = \"/content/DifFace/testdata/whole_imgs\"\n",
        "im_path_list = sorted([x for x in Path(in_dir).glob(\"*.png\")])\n",
        "im_path_list.extend([x for x in Path(in_dir).glob(\"*.jpg\")])\n",
        "out_dir = Path(\"/content/result_unaligned/restored_image\")\n",
        "for im_path_in in im_path_list:\n",
        "  im1 = imread(str(im_path_in))\n",
        "  im_path_out = out_dir / im_path_in.name\n",
        "  im2 = imread(str(im_path_out))\n",
        "  display(im1, im2)"
      ]
    },
    {
      "cell_type": "code",
      "execution_count": null,
      "metadata": {
        "id": "eJn6l7gbS1l6"
      },
      "outputs": [],
      "source": [
        "#@title **Whole Image Original**\n",
        "pic = '001.jpg' #@param {type:\"string\"}\n",
        "input_folder = 'testdata/whole_imgs_original'\n",
        "result_folder = 'results'\n",
        "reset_folder(input_folder)\n",
        "reset_folder(result_folder)\n",
        "img = cv2.imread('pic/'+pic)\n",
        "cv2.imwrite(input_folder+'/'+pic, img)\n",
        "\n",
        "!python /content/DifFace/inference_difface.py \\\n",
        "  -t 200 -s 80 \\\n",
        "  --in_path $input_folder \\\n",
        "  --out_path $result_folder \\\n",
        "  --gpu_id 0\n",
        "\n",
        "clear_output()\n",
        "img1 = imread(input_folder+'/'+pic)\n",
        "img2 = imread(result_folder+'/restored_image/'+pic)\n",
        "display(img1,img2)\n"
      ]
    },
    {
      "cell_type": "code",
      "execution_count": null,
      "metadata": {
        "id": "YluoMg5Z3VWP"
      },
      "outputs": [],
      "source": [
        "#@title **download file**\n",
        "from google.colab import files\n",
        "files.download(result_folder+'/restored_image/'+pic)"
      ]
    }
  ],
  "metadata": {
    "accelerator": "GPU",
    "colab": {
      "provenance": [],
      "include_colab_link": true
    },
    "gpuClass": "standard",
    "kernelspec": {
      "display_name": "Python 3",
      "name": "python3"
    },
    "language_info": {
      "name": "python"
    }
  },
  "nbformat": 4,
  "nbformat_minor": 0
}